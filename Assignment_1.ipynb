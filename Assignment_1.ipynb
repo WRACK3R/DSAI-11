{
  "nbformat": 4,
  "nbformat_minor": 0,
  "metadata": {
    "colab": {
      "provenance": [],
      "authorship_tag": "ABX9TyOVpbLXKTM47nUsXLp/paG/",
      "include_colab_link": true
    },
    "kernelspec": {
      "name": "python3",
      "display_name": "Python 3"
    },
    "language_info": {
      "name": "python"
    }
  },
  "cells": [
    {
      "cell_type": "markdown",
      "metadata": {
        "id": "view-in-github",
        "colab_type": "text"
      },
      "source": [
        "<a href=\"https://colab.research.google.com/github/WRACK3R/DSAI-11/blob/main/Assignment_1.ipynb\" target=\"_parent\"><img src=\"https://colab.research.google.com/assets/colab-badge.svg\" alt=\"Open In Colab\"/></a>"
      ]
    },
    {
      "cell_type": "markdown",
      "source": [
        "14. Problem:\n",
        "Write a function that takes a list of integers and a lambda function, and returns a new list where\n",
        "the lambda function is applied to each element of the list."
      ],
      "metadata": {
        "id": "EfhxTA47UFjF"
      }
    },
    {
      "cell_type": "code",
      "execution_count": 10,
      "metadata": {
        "id": "4NFncqbKTkEZ"
      },
      "outputs": [],
      "source": [
        "def function(list1, function):\n",
        "    return list(map(function, list1))\n",
        "\n"
      ]
    },
    {
      "cell_type": "markdown",
      "source": [],
      "metadata": {
        "id": "ZXWJEt1dT9Bx"
      }
    },
    {
      "cell_type": "code",
      "source": [
        "numbers = [1, 2, 3, 4]\n",
        "squared_list = function(numbers, lambda x: x ** 2)\n",
        "print(squared_list)\n"
      ],
      "metadata": {
        "colab": {
          "base_uri": "https://localhost:8080/"
        },
        "id": "0F_2unORVgQs",
        "outputId": "72f95e61-fbe9-4783-966e-8527ffa0a4d5"
      },
      "execution_count": 11,
      "outputs": [
        {
          "output_type": "stream",
          "name": "stdout",
          "text": [
            "[1, 4, 9, 16]\n"
          ]
        }
      ]
    },
    {
      "cell_type": "markdown",
      "source": [
        "15. Sum or Multiply Based on Keyword Argument\n",
        "Problem:\n",
        "Write a function that takes a variable-length list of numbers (*args) and an optional keyword\n",
        "argument operation. If operation='multiply', return the product of all the numbers;\n",
        "otherwise, return their sum."
      ],
      "metadata": {
        "id": "OCS8DIRrWjKC"
      }
    },
    {
      "cell_type": "code",
      "source": [
        "def sumproduct(*args, operation='sum'):\n",
        "    if operation == 'multiply':\n",
        "        result = 1\n",
        "        for num in args:\n",
        "            result *= num\n",
        "        return result\n",
        "    else:\n",
        "        return sum(args)"
      ],
      "metadata": {
        "id": "I7-73GFBVhX5"
      },
      "execution_count": 16,
      "outputs": []
    },
    {
      "cell_type": "markdown",
      "source": [],
      "metadata": {
        "id": "Bav97XtuWdSm"
      }
    },
    {
      "cell_type": "code",
      "source": [
        "print(sumproduct(1, 2, 3, 4))\n",
        "print(sumproduct(1, 2, 3, 4, operation='multiply'))"
      ],
      "metadata": {
        "colab": {
          "base_uri": "https://localhost:8080/"
        },
        "id": "5vWyxNfuYQU3",
        "outputId": "fbe11c99-84d3-426c-f6e5-7b2bb0d7f54a"
      },
      "execution_count": 17,
      "outputs": [
        {
          "output_type": "stream",
          "name": "stdout",
          "text": [
            "10\n",
            "24\n"
          ]
        }
      ]
    },
    {
      "cell_type": "markdown",
      "source": [],
      "metadata": {
        "id": "YBfEhv73V6cv"
      }
    }
  ]
}